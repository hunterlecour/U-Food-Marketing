{
 "cells": [
  {
   "cell_type": "code",
   "execution_count": 1,
   "id": "064494a3-f761-4ce9-a349-b06f704da370",
   "metadata": {},
   "outputs": [],
   "source": [
    "# # Step 1: Check if Git is installed\n",
    "# !git --version\n",
    "\n",
    "# # Step 2: Initialize a new Git repository\n",
    "# !git init\n",
    "\n",
    "# # Step 3: Add files to the repository\n",
    "# !git add .\n",
    "\n",
    "# # Add a Readme (if needed)\n",
    "# !git add README.md\n",
    "\n",
    "# # Step 4: Commit the changes\n",
    "# !git commit -m \"Initial commit\"\n",
    "\n",
    "# # Step 5: Check the current branch\n",
    "# !git branch\n",
    "\n",
    "# # Step 6: Create a new branch (if needed)\n",
    "# !git checkout -b new-branch-name  # Replace with your branch name\n",
    "\n",
    "# # Step 7: Add the remote repository\n",
    "# !git remote add origin https://github.com/yourusername/your-repo-name.git\n",
    "\n",
    "# # Step 8: Push the changes to GitHub\n",
    "# !git push -u origin new-branch-name  # or main, if that’s your branch\n"
   ]
  },
  {
   "cell_type": "code",
   "execution_count": 2,
   "id": "673e32e0-3254-47a2-aea4-9bc145eeda0c",
   "metadata": {},
   "outputs": [],
   "source": [
    "# On going Maintenance \n",
    "\n",
    "# # Step 1: Check the status of your repository\n",
    "# !git status\n",
    "\n",
    "# # Step 2: Stage the updated notebook\n",
    "# !git add .  # or !git add my_notebook.ipynb\n",
    "\n",
    "# # Step 3: Commit the changes\n",
    "# !git commit -m \"Updated my_notebook with new analysis\"  # Customize the message\n",
    "\n",
    "# # Step 4: Push the changes to GitHub\n",
    "# !git push origin new-branch-name  # or !git push origin main\n"
   ]
  },
  {
   "cell_type": "code",
   "execution_count": 3,
   "id": "a2de5be5-bfce-499e-a971-0a5c82a07ce1",
   "metadata": {},
   "outputs": [
    {
     "name": "stdout",
     "output_type": "stream",
     "text": [
      "origin\thttps://github.com/hunterlecour/Movie-Genres.git (fetch)\n",
      "origin\thttps://github.com/hunterlecour/Movie-Genres.git (push)\n"
     ]
    }
   ],
   "source": [
    "! git remote -v"
   ]
  },
  {
   "cell_type": "code",
   "execution_count": 4,
   "id": "d7353d65-758e-4444-8a2f-dcc02f0d11fc",
   "metadata": {},
   "outputs": [
    {
     "name": "stdout",
     "output_type": "stream",
     "text": [
      "On branch main\n",
      "Your branch is up to date with 'origin/main'.\n",
      "\n",
      "Changes not staged for commit:\n",
      "  (use \"git add <file>...\" to update what will be committed)\n",
      "  (use \"git restore <file>...\" to discard changes in working directory)\n",
      "\tmodified:   .ipynb_checkpoints/Movie Genre Data Analysis-checkpoint.ipynb\n",
      "\tmodified:   Movie Genre Data Analysis.ipynb\n",
      "\tmodified:   git_commands.ipynb\n",
      "\n",
      "no changes added to commit (use \"git add\" and/or \"git commit -a\")\n"
     ]
    }
   ],
   "source": [
    "!git status"
   ]
  },
  {
   "cell_type": "code",
   "execution_count": 5,
   "id": "e1901232-5d15-426c-bdb7-e7fa38c3a6b2",
   "metadata": {},
   "outputs": [
    {
     "name": "stderr",
     "output_type": "stream",
     "text": [
      "warning: in the working copy of '.ipynb_checkpoints/Movie Genre Data Analysis-checkpoint.ipynb', LF will be replaced by CRLF the next time Git touches it\n",
      "warning: in the working copy of 'Movie Genre Data Analysis.ipynb', LF will be replaced by CRLF the next time Git touches it\n",
      "warning: in the working copy of 'git_commands.ipynb', LF will be replaced by CRLF the next time Git touches it\n"
     ]
    }
   ],
   "source": [
    "!git add ."
   ]
  },
  {
   "cell_type": "code",
   "execution_count": 6,
   "id": "73bf041a-07f7-4210-96e6-67ea7e5e8ec1",
   "metadata": {},
   "outputs": [
    {
     "name": "stdout",
     "output_type": "stream",
     "text": [
      "[main 28ecf20] Updated\n",
      " 3 files changed, 77 insertions(+), 39 deletions(-)\n"
     ]
    }
   ],
   "source": [
    "!git commit -m \"Updated\""
   ]
  },
  {
   "cell_type": "code",
   "execution_count": 7,
   "id": "7148b8b4-26d1-40e0-8c3e-44e7686a6ea6",
   "metadata": {},
   "outputs": [
    {
     "name": "stderr",
     "output_type": "stream",
     "text": [
      "To https://github.com/hunterlecour/Movie-Genres.git\n",
      "   fc2c704..28ecf20  main -> main\n"
     ]
    }
   ],
   "source": [
    "!git push origin main"
   ]
  },
  {
   "cell_type": "code",
   "execution_count": null,
   "id": "adc8afe2-73b5-4abd-97fa-882ff6a06cee",
   "metadata": {},
   "outputs": [],
   "source": []
  }
 ],
 "metadata": {
  "kernelspec": {
   "display_name": "Python 3 (ipykernel)",
   "language": "python",
   "name": "python3"
  },
  "language_info": {
   "codemirror_mode": {
    "name": "ipython",
    "version": 3
   },
   "file_extension": ".py",
   "mimetype": "text/x-python",
   "name": "python",
   "nbconvert_exporter": "python",
   "pygments_lexer": "ipython3",
   "version": "3.12.4"
  }
 },
 "nbformat": 4,
 "nbformat_minor": 5
}
